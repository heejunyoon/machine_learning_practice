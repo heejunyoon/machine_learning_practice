{
  "nbformat": 4,
  "nbformat_minor": 0,
  "metadata": {
    "kernelspec": {
      "display_name": "Python 3",
      "language": "python",
      "name": "python3"
    },
    "language_info": {
      "codemirror_mode": {
        "name": "ipython",
        "version": 3
      },
      "file_extension": ".py",
      "mimetype": "text/x-python",
      "name": "python",
      "nbconvert_exporter": "python",
      "pygments_lexer": "ipython3",
      "version": "3.7.7"
    },
    "colab": {
      "name": "model_prediction.ipynb",
      "provenance": [],
      "toc_visible": true,
      "include_colab_link": true
    }
  },
  "cells": [
    {
      "cell_type": "markdown",
      "metadata": {
        "id": "view-in-github",
        "colab_type": "text"
      },
      "source": [
        "<a href=\"https://colab.research.google.com/github/heejunyoon/machine_learning_practice/blob/master/model_prediction.ipynb\" target=\"_parent\"><img src=\"https://colab.research.google.com/assets/colab-badge.svg\" alt=\"Open In Colab\"/></a>"
      ]
    },
    {
      "cell_type": "code",
      "metadata": {
        "id": "ua5_Tru9vAU3",
        "colab_type": "code",
        "colab": {}
      },
      "source": [
        "import tensorflow as tf\n",
        "import numpy as np\n",
        "from tensorflow import keras\n",
        "from tensorflow.keras import layers\n",
        "import pandas as pd\n",
        "from sklearn import datasets\n",
        "from sklearn.model_selection import train_test_split\n",
        "import matplotlib.pyplot as plt\n",
        "%matplotlib inline\n",
        "from numpy import array\n",
        "from keras.models import Sequential\n",
        "from keras.utils.np_utils import to_categorical\n",
        "from sklearn.model_selection import train_test_split\n",
        "from keras.layers import Activation, Dense, Dropout, LSTM, Flatten, Conv1D, MaxPooling1D, BatchNormalization\n",
        "\n",
        "from tensorflow.keras.optimizers import SGD, Adam\n",
        "\n",
        "\n",
        "import datetime"
      ],
      "execution_count": null,
      "outputs": []
    },
    {
      "cell_type": "markdown",
      "metadata": {
        "id": "zV6CnkgrvAU8",
        "colab_type": "text"
      },
      "source": [
        "# 데이터 준비"
      ]
    },
    {
      "cell_type": "code",
      "metadata": {
        "id": "Ps6Y52hhvAU9",
        "colab_type": "code",
        "colab": {}
      },
      "source": [
        "#train data 생성\n",
        "def prediction_data(filename):\n",
        "    train_data=np.loadtxt(filename,delimiter=',')\n",
        "    \n",
        "    frame = list(range(0,300))\n",
        "    train_data_df = pd.DataFrame(train_data, columns=frame)\n",
        "    prediction_data_df = np.expand_dims(train_data_df,axis=-1)\n",
        "\n",
        "    return prediction_data_df"
      ],
      "execution_count": null,
      "outputs": []
    },
    {
      "cell_type": "code",
      "metadata": {
        "id": "3T4nrkldvAVE",
        "colab_type": "code",
        "colab": {}
      },
      "source": [
        "predict_test1 = prediction_data('dataset_512_csv83.csv')\n",
        "predict_test2 = prediction_data('dataset_512_csv88.csv')"
      ],
      "execution_count": null,
      "outputs": []
    },
    {
      "cell_type": "markdown",
      "metadata": {
        "id": "FT6DFON5vAVS",
        "colab_type": "text"
      },
      "source": [
        "# 모델 불러오기"
      ]
    },
    {
      "cell_type": "code",
      "metadata": {
        "id": "ZcKTf-ZevAVT",
        "colab_type": "code",
        "colab": {}
      },
      "source": [
        "from keras.models import load_model\n",
        "from scipy.stats import mode\n",
        "model = tf.keras.models.load_model('model_batch_norm4_epoch300.h5')"
      ],
      "execution_count": null,
      "outputs": []
    },
    {
      "cell_type": "code",
      "metadata": {
        "id": "AYXSsiaavAVW",
        "colab_type": "code",
        "colab": {
          "base_uri": "https://localhost:8080/",
          "height": 71
        },
        "outputId": "13d4725b-4758-47a7-ae6a-e959e976f64c"
      },
      "source": [
        "score1 = model.predict(predict_test1)\n",
        "print(np.mean(score1))\n",
        "print(np.median(score1))\n",
        "print(mode(np.round(score1,1)))"
      ],
      "execution_count": null,
      "outputs": [
        {
          "output_type": "stream",
          "text": [
            "77.296974\n",
            "77.31565\n",
            "ModeResult(mode=array([[79.5]], dtype=float32), count=array([[11]]))\n"
          ],
          "name": "stdout"
        }
      ]
    },
    {
      "cell_type": "code",
      "metadata": {
        "id": "ibbSawp0NSvO",
        "colab_type": "code",
        "colab": {
          "base_uri": "https://localhost:8080/",
          "height": 71
        },
        "outputId": "2df26eb6-d8b9-49db-fa3c-3aa9480e63ed"
      },
      "source": [
        "score2 = model.predict(predict_test2)\n",
        "print(np.mean(score2))\n",
        "print(np.median(score2))\n",
        "print(mode(np.round(score2,1)))"
      ],
      "execution_count": null,
      "outputs": [
        {
          "output_type": "stream",
          "text": [
            "70.906815\n",
            "71.15312\n",
            "ModeResult(mode=array([[71.]], dtype=float32), count=array([[19]]))\n"
          ],
          "name": "stdout"
        }
      ]
    },
    {
      "cell_type": "code",
      "metadata": {
        "id": "dzCCGEZ2PKhS",
        "colab_type": "code",
        "colab": {}
      },
      "source": [
        ""
      ],
      "execution_count": null,
      "outputs": []
    }
  ]
}